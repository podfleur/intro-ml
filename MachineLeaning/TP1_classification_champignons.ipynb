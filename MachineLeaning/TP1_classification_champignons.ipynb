{
  "cells": [
    {
      "cell_type": "markdown",
      "metadata": {
        "id": "1O9eOBlTzE-F"
      },
      "source": [
        "## Machine Learning TP1 : Reconnaissance de Champignon"
      ]
    },
    {
      "cell_type": "markdown",
      "metadata": {
        "id": "eKjrKP-HzE-K"
      },
      "source": [
        "### Import des librairies"
      ]
    },
    {
      "cell_type": "code",
      "execution_count": 7,
      "metadata": {
        "id": "n5cvXBBbzE-L"
      },
      "outputs": [],
      "source": [
        "import pandas as pd\n",
        "import numpy as np\n",
        "import os\n",
        "from IPython.display import Image, display\n",
        "\n",
        "from sklearn import preprocessing\n",
        "\n",
        "from sklearn.metrics import accuracy_score\n",
        "from sklearn import tree\n",
        "from sklearn import ensemble\n",
        "from sklearn.tree import export_graphviz\n",
        "\n",
        "from sklearn.preprocessing import OneHotEncoder\n",
        "# pd.set_option('display.max_rows', None) # Afficher toutes les lignes des dataframes\n",
        "# pd.set_option('display.max_columns', None) # Afficher toutes les lignes des dataframes"
      ]
    },
    {
      "cell_type": "markdown",
      "metadata": {
        "id": "K_uczGyEzE-M"
      },
      "source": [
        "### 1. Preparation des données"
      ]
    },
    {
      "cell_type": "markdown",
      "metadata": {
        "id": "_G63K8OyzE-N"
      },
      "source": [
        "1.1 importer et afficher les données dans un DataFrame.\n",
        "\n",
        "Afficher le nombre de champignons toxiques ou non.\n",
        "\n",
        "Vérifier qu'il n'y as pas de valeurs nulles"
      ]
    },
    {
      "cell_type": "code",
      "execution_count": 10,
      "metadata": {
        "colab": {
          "base_uri": "https://localhost:8080/",
          "height": 496
        },
        "id": "gRI1gLzWzE-N",
        "outputId": "ffef5705-4c6a-4ec6-9a5a-9c200a53e13e"
      },
      "outputs": [
        {
          "output_type": "execute_result",
          "data": {
            "text/plain": [
              "        toxicite surface-chapeau ecchymoses attache-lamelles taille-lamelles  \\\n",
              "0        toxique           lisse        oui            libre          étroit   \n",
              "1     comestible           lisse        oui            libre           large   \n",
              "2     comestible           lisse        oui            libre           large   \n",
              "3        toxique        écaillée        oui            libre          étroit   \n",
              "4     comestible           lisse        non            libre           large   \n",
              "...          ...             ...        ...              ...             ...   \n",
              "8119  comestible           lisse        non         adhérent           large   \n",
              "8120  comestible           lisse        non         adhérent           large   \n",
              "8121  comestible           lisse        non         adhérent           large   \n",
              "8122     toxique        écaillée        non            libre          étroit   \n",
              "8123  comestible           lisse        non         adhérent           large   \n",
              "\n",
              "       forme-pied surface-pied-sur-anneau couleur-pied-sur-anneau  \\\n",
              "0     élargissant                   lisse                   blanc   \n",
              "1     élargissant                   lisse                   blanc   \n",
              "2     élargissant                   lisse                   blanc   \n",
              "3     élargissant                   lisse                   blanc   \n",
              "4          effilé                   lisse                   blanc   \n",
              "...           ...                     ...                     ...   \n",
              "8119  élargissant                   lisse                  orange   \n",
              "8120  élargissant                   lisse                  orange   \n",
              "8121  élargissant                   lisse                  orange   \n",
              "8122       effilé                   lisse                   blanc   \n",
              "8123  élargissant                   lisse                  orange   \n",
              "\n",
              "     couleur-voile type-anneau  population  \n",
              "0            blanc     pendant   dispersée  \n",
              "1            blanc     pendant   nombreuse  \n",
              "2            blanc     pendant   nombreuse  \n",
              "3            blanc     pendant   dispersée  \n",
              "4            blanc       évasé   abondante  \n",
              "...            ...         ...         ...  \n",
              "8119        orange     pendant  clairsemée  \n",
              "8120          brun     pendant      variée  \n",
              "8121        orange     pendant  clairsemée  \n",
              "8122         blanc       évasé      variée  \n",
              "8123        orange     pendant  clairsemée  \n",
              "\n",
              "[8124 rows x 11 columns]"
            ],
            "text/html": [
              "\n",
              "  <div id=\"df-571e109f-40b1-404b-b311-f9dd16a49cbe\" class=\"colab-df-container\">\n",
              "    <div>\n",
              "<style scoped>\n",
              "    .dataframe tbody tr th:only-of-type {\n",
              "        vertical-align: middle;\n",
              "    }\n",
              "\n",
              "    .dataframe tbody tr th {\n",
              "        vertical-align: top;\n",
              "    }\n",
              "\n",
              "    .dataframe thead th {\n",
              "        text-align: right;\n",
              "    }\n",
              "</style>\n",
              "<table border=\"1\" class=\"dataframe\">\n",
              "  <thead>\n",
              "    <tr style=\"text-align: right;\">\n",
              "      <th></th>\n",
              "      <th>toxicite</th>\n",
              "      <th>surface-chapeau</th>\n",
              "      <th>ecchymoses</th>\n",
              "      <th>attache-lamelles</th>\n",
              "      <th>taille-lamelles</th>\n",
              "      <th>forme-pied</th>\n",
              "      <th>surface-pied-sur-anneau</th>\n",
              "      <th>couleur-pied-sur-anneau</th>\n",
              "      <th>couleur-voile</th>\n",
              "      <th>type-anneau</th>\n",
              "      <th>population</th>\n",
              "    </tr>\n",
              "  </thead>\n",
              "  <tbody>\n",
              "    <tr>\n",
              "      <th>0</th>\n",
              "      <td>toxique</td>\n",
              "      <td>lisse</td>\n",
              "      <td>oui</td>\n",
              "      <td>libre</td>\n",
              "      <td>étroit</td>\n",
              "      <td>élargissant</td>\n",
              "      <td>lisse</td>\n",
              "      <td>blanc</td>\n",
              "      <td>blanc</td>\n",
              "      <td>pendant</td>\n",
              "      <td>dispersée</td>\n",
              "    </tr>\n",
              "    <tr>\n",
              "      <th>1</th>\n",
              "      <td>comestible</td>\n",
              "      <td>lisse</td>\n",
              "      <td>oui</td>\n",
              "      <td>libre</td>\n",
              "      <td>large</td>\n",
              "      <td>élargissant</td>\n",
              "      <td>lisse</td>\n",
              "      <td>blanc</td>\n",
              "      <td>blanc</td>\n",
              "      <td>pendant</td>\n",
              "      <td>nombreuse</td>\n",
              "    </tr>\n",
              "    <tr>\n",
              "      <th>2</th>\n",
              "      <td>comestible</td>\n",
              "      <td>lisse</td>\n",
              "      <td>oui</td>\n",
              "      <td>libre</td>\n",
              "      <td>large</td>\n",
              "      <td>élargissant</td>\n",
              "      <td>lisse</td>\n",
              "      <td>blanc</td>\n",
              "      <td>blanc</td>\n",
              "      <td>pendant</td>\n",
              "      <td>nombreuse</td>\n",
              "    </tr>\n",
              "    <tr>\n",
              "      <th>3</th>\n",
              "      <td>toxique</td>\n",
              "      <td>écaillée</td>\n",
              "      <td>oui</td>\n",
              "      <td>libre</td>\n",
              "      <td>étroit</td>\n",
              "      <td>élargissant</td>\n",
              "      <td>lisse</td>\n",
              "      <td>blanc</td>\n",
              "      <td>blanc</td>\n",
              "      <td>pendant</td>\n",
              "      <td>dispersée</td>\n",
              "    </tr>\n",
              "    <tr>\n",
              "      <th>4</th>\n",
              "      <td>comestible</td>\n",
              "      <td>lisse</td>\n",
              "      <td>non</td>\n",
              "      <td>libre</td>\n",
              "      <td>large</td>\n",
              "      <td>effilé</td>\n",
              "      <td>lisse</td>\n",
              "      <td>blanc</td>\n",
              "      <td>blanc</td>\n",
              "      <td>évasé</td>\n",
              "      <td>abondante</td>\n",
              "    </tr>\n",
              "    <tr>\n",
              "      <th>...</th>\n",
              "      <td>...</td>\n",
              "      <td>...</td>\n",
              "      <td>...</td>\n",
              "      <td>...</td>\n",
              "      <td>...</td>\n",
              "      <td>...</td>\n",
              "      <td>...</td>\n",
              "      <td>...</td>\n",
              "      <td>...</td>\n",
              "      <td>...</td>\n",
              "      <td>...</td>\n",
              "    </tr>\n",
              "    <tr>\n",
              "      <th>8119</th>\n",
              "      <td>comestible</td>\n",
              "      <td>lisse</td>\n",
              "      <td>non</td>\n",
              "      <td>adhérent</td>\n",
              "      <td>large</td>\n",
              "      <td>élargissant</td>\n",
              "      <td>lisse</td>\n",
              "      <td>orange</td>\n",
              "      <td>orange</td>\n",
              "      <td>pendant</td>\n",
              "      <td>clairsemée</td>\n",
              "    </tr>\n",
              "    <tr>\n",
              "      <th>8120</th>\n",
              "      <td>comestible</td>\n",
              "      <td>lisse</td>\n",
              "      <td>non</td>\n",
              "      <td>adhérent</td>\n",
              "      <td>large</td>\n",
              "      <td>élargissant</td>\n",
              "      <td>lisse</td>\n",
              "      <td>orange</td>\n",
              "      <td>brun</td>\n",
              "      <td>pendant</td>\n",
              "      <td>variée</td>\n",
              "    </tr>\n",
              "    <tr>\n",
              "      <th>8121</th>\n",
              "      <td>comestible</td>\n",
              "      <td>lisse</td>\n",
              "      <td>non</td>\n",
              "      <td>adhérent</td>\n",
              "      <td>large</td>\n",
              "      <td>élargissant</td>\n",
              "      <td>lisse</td>\n",
              "      <td>orange</td>\n",
              "      <td>orange</td>\n",
              "      <td>pendant</td>\n",
              "      <td>clairsemée</td>\n",
              "    </tr>\n",
              "    <tr>\n",
              "      <th>8122</th>\n",
              "      <td>toxique</td>\n",
              "      <td>écaillée</td>\n",
              "      <td>non</td>\n",
              "      <td>libre</td>\n",
              "      <td>étroit</td>\n",
              "      <td>effilé</td>\n",
              "      <td>lisse</td>\n",
              "      <td>blanc</td>\n",
              "      <td>blanc</td>\n",
              "      <td>évasé</td>\n",
              "      <td>variée</td>\n",
              "    </tr>\n",
              "    <tr>\n",
              "      <th>8123</th>\n",
              "      <td>comestible</td>\n",
              "      <td>lisse</td>\n",
              "      <td>non</td>\n",
              "      <td>adhérent</td>\n",
              "      <td>large</td>\n",
              "      <td>élargissant</td>\n",
              "      <td>lisse</td>\n",
              "      <td>orange</td>\n",
              "      <td>orange</td>\n",
              "      <td>pendant</td>\n",
              "      <td>clairsemée</td>\n",
              "    </tr>\n",
              "  </tbody>\n",
              "</table>\n",
              "<p>8124 rows × 11 columns</p>\n",
              "</div>\n",
              "    <div class=\"colab-df-buttons\">\n",
              "\n",
              "  <div class=\"colab-df-container\">\n",
              "    <button class=\"colab-df-convert\" onclick=\"convertToInteractive('df-571e109f-40b1-404b-b311-f9dd16a49cbe')\"\n",
              "            title=\"Convert this dataframe to an interactive table.\"\n",
              "            style=\"display:none;\">\n",
              "\n",
              "  <svg xmlns=\"http://www.w3.org/2000/svg\" height=\"24px\" viewBox=\"0 -960 960 960\">\n",
              "    <path d=\"M120-120v-720h720v720H120Zm60-500h600v-160H180v160Zm220 220h160v-160H400v160Zm0 220h160v-160H400v160ZM180-400h160v-160H180v160Zm440 0h160v-160H620v160ZM180-180h160v-160H180v160Zm440 0h160v-160H620v160Z\"/>\n",
              "  </svg>\n",
              "    </button>\n",
              "\n",
              "  <style>\n",
              "    .colab-df-container {\n",
              "      display:flex;\n",
              "      gap: 12px;\n",
              "    }\n",
              "\n",
              "    .colab-df-convert {\n",
              "      background-color: #E8F0FE;\n",
              "      border: none;\n",
              "      border-radius: 50%;\n",
              "      cursor: pointer;\n",
              "      display: none;\n",
              "      fill: #1967D2;\n",
              "      height: 32px;\n",
              "      padding: 0 0 0 0;\n",
              "      width: 32px;\n",
              "    }\n",
              "\n",
              "    .colab-df-convert:hover {\n",
              "      background-color: #E2EBFA;\n",
              "      box-shadow: 0px 1px 2px rgba(60, 64, 67, 0.3), 0px 1px 3px 1px rgba(60, 64, 67, 0.15);\n",
              "      fill: #174EA6;\n",
              "    }\n",
              "\n",
              "    .colab-df-buttons div {\n",
              "      margin-bottom: 4px;\n",
              "    }\n",
              "\n",
              "    [theme=dark] .colab-df-convert {\n",
              "      background-color: #3B4455;\n",
              "      fill: #D2E3FC;\n",
              "    }\n",
              "\n",
              "    [theme=dark] .colab-df-convert:hover {\n",
              "      background-color: #434B5C;\n",
              "      box-shadow: 0px 1px 3px 1px rgba(0, 0, 0, 0.15);\n",
              "      filter: drop-shadow(0px 1px 2px rgba(0, 0, 0, 0.3));\n",
              "      fill: #FFFFFF;\n",
              "    }\n",
              "  </style>\n",
              "\n",
              "    <script>\n",
              "      const buttonEl =\n",
              "        document.querySelector('#df-571e109f-40b1-404b-b311-f9dd16a49cbe button.colab-df-convert');\n",
              "      buttonEl.style.display =\n",
              "        google.colab.kernel.accessAllowed ? 'block' : 'none';\n",
              "\n",
              "      async function convertToInteractive(key) {\n",
              "        const element = document.querySelector('#df-571e109f-40b1-404b-b311-f9dd16a49cbe');\n",
              "        const dataTable =\n",
              "          await google.colab.kernel.invokeFunction('convertToInteractive',\n",
              "                                                    [key], {});\n",
              "        if (!dataTable) return;\n",
              "\n",
              "        const docLinkHtml = 'Like what you see? Visit the ' +\n",
              "          '<a target=\"_blank\" href=https://colab.research.google.com/notebooks/data_table.ipynb>data table notebook</a>'\n",
              "          + ' to learn more about interactive tables.';\n",
              "        element.innerHTML = '';\n",
              "        dataTable['output_type'] = 'display_data';\n",
              "        await google.colab.output.renderOutput(dataTable, element);\n",
              "        const docLink = document.createElement('div');\n",
              "        docLink.innerHTML = docLinkHtml;\n",
              "        element.appendChild(docLink);\n",
              "      }\n",
              "    </script>\n",
              "  </div>\n",
              "\n",
              "\n",
              "<div id=\"df-16bd193b-ea80-4ac0-8aa2-2f73c9c60514\">\n",
              "  <button class=\"colab-df-quickchart\" onclick=\"quickchart('df-16bd193b-ea80-4ac0-8aa2-2f73c9c60514')\"\n",
              "            title=\"Suggest charts\"\n",
              "            style=\"display:none;\">\n",
              "\n",
              "<svg xmlns=\"http://www.w3.org/2000/svg\" height=\"24px\"viewBox=\"0 0 24 24\"\n",
              "     width=\"24px\">\n",
              "    <g>\n",
              "        <path d=\"M19 3H5c-1.1 0-2 .9-2 2v14c0 1.1.9 2 2 2h14c1.1 0 2-.9 2-2V5c0-1.1-.9-2-2-2zM9 17H7v-7h2v7zm4 0h-2V7h2v10zm4 0h-2v-4h2v4z\"/>\n",
              "    </g>\n",
              "</svg>\n",
              "  </button>\n",
              "\n",
              "<style>\n",
              "  .colab-df-quickchart {\n",
              "      --bg-color: #E8F0FE;\n",
              "      --fill-color: #1967D2;\n",
              "      --hover-bg-color: #E2EBFA;\n",
              "      --hover-fill-color: #174EA6;\n",
              "      --disabled-fill-color: #AAA;\n",
              "      --disabled-bg-color: #DDD;\n",
              "  }\n",
              "\n",
              "  [theme=dark] .colab-df-quickchart {\n",
              "      --bg-color: #3B4455;\n",
              "      --fill-color: #D2E3FC;\n",
              "      --hover-bg-color: #434B5C;\n",
              "      --hover-fill-color: #FFFFFF;\n",
              "      --disabled-bg-color: #3B4455;\n",
              "      --disabled-fill-color: #666;\n",
              "  }\n",
              "\n",
              "  .colab-df-quickchart {\n",
              "    background-color: var(--bg-color);\n",
              "    border: none;\n",
              "    border-radius: 50%;\n",
              "    cursor: pointer;\n",
              "    display: none;\n",
              "    fill: var(--fill-color);\n",
              "    height: 32px;\n",
              "    padding: 0;\n",
              "    width: 32px;\n",
              "  }\n",
              "\n",
              "  .colab-df-quickchart:hover {\n",
              "    background-color: var(--hover-bg-color);\n",
              "    box-shadow: 0 1px 2px rgba(60, 64, 67, 0.3), 0 1px 3px 1px rgba(60, 64, 67, 0.15);\n",
              "    fill: var(--button-hover-fill-color);\n",
              "  }\n",
              "\n",
              "  .colab-df-quickchart-complete:disabled,\n",
              "  .colab-df-quickchart-complete:disabled:hover {\n",
              "    background-color: var(--disabled-bg-color);\n",
              "    fill: var(--disabled-fill-color);\n",
              "    box-shadow: none;\n",
              "  }\n",
              "\n",
              "  .colab-df-spinner {\n",
              "    border: 2px solid var(--fill-color);\n",
              "    border-color: transparent;\n",
              "    border-bottom-color: var(--fill-color);\n",
              "    animation:\n",
              "      spin 1s steps(1) infinite;\n",
              "  }\n",
              "\n",
              "  @keyframes spin {\n",
              "    0% {\n",
              "      border-color: transparent;\n",
              "      border-bottom-color: var(--fill-color);\n",
              "      border-left-color: var(--fill-color);\n",
              "    }\n",
              "    20% {\n",
              "      border-color: transparent;\n",
              "      border-left-color: var(--fill-color);\n",
              "      border-top-color: var(--fill-color);\n",
              "    }\n",
              "    30% {\n",
              "      border-color: transparent;\n",
              "      border-left-color: var(--fill-color);\n",
              "      border-top-color: var(--fill-color);\n",
              "      border-right-color: var(--fill-color);\n",
              "    }\n",
              "    40% {\n",
              "      border-color: transparent;\n",
              "      border-right-color: var(--fill-color);\n",
              "      border-top-color: var(--fill-color);\n",
              "    }\n",
              "    60% {\n",
              "      border-color: transparent;\n",
              "      border-right-color: var(--fill-color);\n",
              "    }\n",
              "    80% {\n",
              "      border-color: transparent;\n",
              "      border-right-color: var(--fill-color);\n",
              "      border-bottom-color: var(--fill-color);\n",
              "    }\n",
              "    90% {\n",
              "      border-color: transparent;\n",
              "      border-bottom-color: var(--fill-color);\n",
              "    }\n",
              "  }\n",
              "</style>\n",
              "\n",
              "  <script>\n",
              "    async function quickchart(key) {\n",
              "      const quickchartButtonEl =\n",
              "        document.querySelector('#' + key + ' button');\n",
              "      quickchartButtonEl.disabled = true;  // To prevent multiple clicks.\n",
              "      quickchartButtonEl.classList.add('colab-df-spinner');\n",
              "      try {\n",
              "        const charts = await google.colab.kernel.invokeFunction(\n",
              "            'suggestCharts', [key], {});\n",
              "      } catch (error) {\n",
              "        console.error('Error during call to suggestCharts:', error);\n",
              "      }\n",
              "      quickchartButtonEl.classList.remove('colab-df-spinner');\n",
              "      quickchartButtonEl.classList.add('colab-df-quickchart-complete');\n",
              "    }\n",
              "    (() => {\n",
              "      let quickchartButtonEl =\n",
              "        document.querySelector('#df-16bd193b-ea80-4ac0-8aa2-2f73c9c60514 button');\n",
              "      quickchartButtonEl.style.display =\n",
              "        google.colab.kernel.accessAllowed ? 'block' : 'none';\n",
              "    })();\n",
              "  </script>\n",
              "</div>\n",
              "\n",
              "  <div id=\"id_f4fe59d2-41ec-4dbe-9072-fe458eabbd1c\">\n",
              "    <style>\n",
              "      .colab-df-generate {\n",
              "        background-color: #E8F0FE;\n",
              "        border: none;\n",
              "        border-radius: 50%;\n",
              "        cursor: pointer;\n",
              "        display: none;\n",
              "        fill: #1967D2;\n",
              "        height: 32px;\n",
              "        padding: 0 0 0 0;\n",
              "        width: 32px;\n",
              "      }\n",
              "\n",
              "      .colab-df-generate:hover {\n",
              "        background-color: #E2EBFA;\n",
              "        box-shadow: 0px 1px 2px rgba(60, 64, 67, 0.3), 0px 1px 3px 1px rgba(60, 64, 67, 0.15);\n",
              "        fill: #174EA6;\n",
              "      }\n",
              "\n",
              "      [theme=dark] .colab-df-generate {\n",
              "        background-color: #3B4455;\n",
              "        fill: #D2E3FC;\n",
              "      }\n",
              "\n",
              "      [theme=dark] .colab-df-generate:hover {\n",
              "        background-color: #434B5C;\n",
              "        box-shadow: 0px 1px 3px 1px rgba(0, 0, 0, 0.15);\n",
              "        filter: drop-shadow(0px 1px 2px rgba(0, 0, 0, 0.3));\n",
              "        fill: #FFFFFF;\n",
              "      }\n",
              "    </style>\n",
              "    <button class=\"colab-df-generate\" onclick=\"generateWithVariable('my_dataframe')\"\n",
              "            title=\"Generate code using this dataframe.\"\n",
              "            style=\"display:none;\">\n",
              "\n",
              "  <svg xmlns=\"http://www.w3.org/2000/svg\" height=\"24px\"viewBox=\"0 0 24 24\"\n",
              "       width=\"24px\">\n",
              "    <path d=\"M7,19H8.4L18.45,9,17,7.55,7,17.6ZM5,21V16.75L18.45,3.32a2,2,0,0,1,2.83,0l1.4,1.43a1.91,1.91,0,0,1,.58,1.4,1.91,1.91,0,0,1-.58,1.4L9.25,21ZM18.45,9,17,7.55Zm-12,3A5.31,5.31,0,0,0,4.9,8.1,5.31,5.31,0,0,0,1,6.5,5.31,5.31,0,0,0,4.9,4.9,5.31,5.31,0,0,0,6.5,1,5.31,5.31,0,0,0,8.1,4.9,5.31,5.31,0,0,0,12,6.5,5.46,5.46,0,0,0,6.5,12Z\"/>\n",
              "  </svg>\n",
              "    </button>\n",
              "    <script>\n",
              "      (() => {\n",
              "      const buttonEl =\n",
              "        document.querySelector('#id_f4fe59d2-41ec-4dbe-9072-fe458eabbd1c button.colab-df-generate');\n",
              "      buttonEl.style.display =\n",
              "        google.colab.kernel.accessAllowed ? 'block' : 'none';\n",
              "\n",
              "      buttonEl.onclick = () => {\n",
              "        google.colab.notebook.generateWithVariable('my_dataframe');\n",
              "      }\n",
              "      })();\n",
              "    </script>\n",
              "  </div>\n",
              "\n",
              "    </div>\n",
              "  </div>\n"
            ],
            "application/vnd.google.colaboratory.intrinsic+json": {
              "type": "dataframe",
              "variable_name": "my_dataframe",
              "summary": "{\n  \"name\": \"my_dataframe\",\n  \"rows\": 8124,\n  \"fields\": [\n    {\n      \"column\": \"toxicite\",\n      \"properties\": {\n        \"dtype\": \"category\",\n        \"num_unique_values\": 2,\n        \"samples\": [\n          \"comestible\",\n          \"toxique\"\n        ],\n        \"semantic_type\": \"\",\n        \"description\": \"\"\n      }\n    },\n    {\n      \"column\": \"surface-chapeau\",\n      \"properties\": {\n        \"dtype\": \"category\",\n        \"num_unique_values\": 4,\n        \"samples\": [\n          \"\\u00e9caill\\u00e9e\",\n          \"rainur\\u00e9e\"\n        ],\n        \"semantic_type\": \"\",\n        \"description\": \"\"\n      }\n    },\n    {\n      \"column\": \"ecchymoses\",\n      \"properties\": {\n        \"dtype\": \"category\",\n        \"num_unique_values\": 2,\n        \"samples\": [\n          \"non\",\n          \"oui\"\n        ],\n        \"semantic_type\": \"\",\n        \"description\": \"\"\n      }\n    },\n    {\n      \"column\": \"attache-lamelles\",\n      \"properties\": {\n        \"dtype\": \"category\",\n        \"num_unique_values\": 2,\n        \"samples\": [\n          \"adh\\u00e9rent\",\n          \"libre\"\n        ],\n        \"semantic_type\": \"\",\n        \"description\": \"\"\n      }\n    },\n    {\n      \"column\": \"taille-lamelles\",\n      \"properties\": {\n        \"dtype\": \"category\",\n        \"num_unique_values\": 2,\n        \"samples\": [\n          \"large\",\n          \"\\u00e9troit\"\n        ],\n        \"semantic_type\": \"\",\n        \"description\": \"\"\n      }\n    },\n    {\n      \"column\": \"forme-pied\",\n      \"properties\": {\n        \"dtype\": \"category\",\n        \"num_unique_values\": 2,\n        \"samples\": [\n          \"effil\\u00e9\",\n          \"\\u00e9largissant\"\n        ],\n        \"semantic_type\": \"\",\n        \"description\": \"\"\n      }\n    },\n    {\n      \"column\": \"surface-pied-sur-anneau\",\n      \"properties\": {\n        \"dtype\": \"category\",\n        \"num_unique_values\": 4,\n        \"samples\": [\n          \"fibreuse\",\n          \"\\u00e9caill\\u00e9e\"\n        ],\n        \"semantic_type\": \"\",\n        \"description\": \"\"\n      }\n    },\n    {\n      \"column\": \"couleur-pied-sur-anneau\",\n      \"properties\": {\n        \"dtype\": \"category\",\n        \"num_unique_values\": 9,\n        \"samples\": [\n          \"cannelle\",\n          \"gris\"\n        ],\n        \"semantic_type\": \"\",\n        \"description\": \"\"\n      }\n    },\n    {\n      \"column\": \"couleur-voile\",\n      \"properties\": {\n        \"dtype\": \"category\",\n        \"num_unique_values\": 4,\n        \"samples\": [\n          \"brun\",\n          \"jaune\"\n        ],\n        \"semantic_type\": \"\",\n        \"description\": \"\"\n      }\n    },\n    {\n      \"column\": \"type-anneau\",\n      \"properties\": {\n        \"dtype\": \"category\",\n        \"num_unique_values\": 5,\n        \"samples\": [\n          \"\\u00e9vas\\u00e9\",\n          \"aucun\"\n        ],\n        \"semantic_type\": \"\",\n        \"description\": \"\"\n      }\n    },\n    {\n      \"column\": \"population\",\n      \"properties\": {\n        \"dtype\": \"category\",\n        \"num_unique_values\": 6,\n        \"samples\": [\n          \"dispers\\u00e9e\",\n          \"nombreuse\"\n        ],\n        \"semantic_type\": \"\",\n        \"description\": \"\"\n      }\n    }\n  ]\n}"
            }
          },
          "metadata": {},
          "execution_count": 10
        }
      ],
      "source": [
        "my_dataframe = pd.read_csv('champignons.csv', dtype={'object': int})\n",
        "my_dataframe"
      ]
    },
    {
      "cell_type": "code",
      "source": [
        "toxic_count = my_dataframe['toxicite'].value_counts()['toxique']\n",
        "non_toxic_count = my_dataframe['toxicite'].value_counts()['comestible']\n",
        "\n",
        "print(f\"Number of toxic mushrooms: {toxic_count}\")\n",
        "print(f\"Number of non-toxic mushrooms: {non_toxic_count}\")"
      ],
      "metadata": {
        "colab": {
          "base_uri": "https://localhost:8080/"
        },
        "id": "WePqLcZ_zrnG",
        "outputId": "ba1cc4e7-3da0-4912-ef8c-55d6b5afbe35"
      },
      "execution_count": 5,
      "outputs": [
        {
          "output_type": "stream",
          "name": "stdout",
          "text": [
            "Number of toxic mushrooms: 3916\n",
            "Number of non-toxic mushrooms: 4208\n"
          ]
        }
      ]
    },
    {
      "cell_type": "code",
      "source": [
        "null_values = my_dataframe.isnull().sum()\n",
        "\n",
        "print(null_values)"
      ],
      "metadata": {
        "colab": {
          "base_uri": "https://localhost:8080/"
        },
        "id": "QLBP4cQozvDM",
        "outputId": "7c052ea9-1bfe-4e96-d225-a3f3a40fe48d"
      },
      "execution_count": 6,
      "outputs": [
        {
          "output_type": "stream",
          "name": "stdout",
          "text": [
            "toxicite                   0\n",
            "surface-chapeau            0\n",
            "ecchymoses                 0\n",
            "attache-lamelles           0\n",
            "taille-lamelles            0\n",
            "forme-pied                 0\n",
            "surface-pied-sur-anneau    0\n",
            "couleur-pied-sur-anneau    0\n",
            "couleur-voile              0\n",
            "type-anneau                0\n",
            "population                 0\n",
            "dtype: int64\n"
          ]
        }
      ]
    },
    {
      "cell_type": "markdown",
      "metadata": {
        "id": "3dl9wmpTzE-N"
      },
      "source": [
        "1.2 Encoder les données avec une colonne 1/0 par valeur possible.Eviter de générer une matrice \"sparse\"\\\n",
        "Afficher la taille des données (lignes x colonnes) et les noms de colonnes générées.\\\n",
        "https://scikit-learn.org/stable/modules/generated/sklearn.preprocessing.OneHotEncoder.html#sklearn.preprocessing.OneHotEncoder"
      ]
    },
    {
      "cell_type": "code",
      "execution_count": 11,
      "metadata": {
        "colab": {
          "base_uri": "https://localhost:8080/"
        },
        "id": "3X1wcDIrzE-O",
        "outputId": "6dd34753-a5ff-42e0-93d6-033d48763925"
      },
      "outputs": [
        {
          "output_type": "stream",
          "name": "stdout",
          "text": [
            "Encoded data size (rows, columns): (8124, 40)\n",
            "Generated column names:\n",
            "['surface-chapeau_fibreuse' 'surface-chapeau_lisse'\n",
            " 'surface-chapeau_rainurée' 'surface-chapeau_écaillée' 'ecchymoses_non'\n",
            " 'ecchymoses_oui' 'attache-lamelles_adhérent' 'attache-lamelles_libre'\n",
            " 'taille-lamelles_large' 'taille-lamelles_étroit' 'forme-pied_effilé'\n",
            " 'forme-pied_élargissant' 'surface-pied-sur-anneau_fibreuse'\n",
            " 'surface-pied-sur-anneau_lisse' 'surface-pied-sur-anneau_soyeuse'\n",
            " 'surface-pied-sur-anneau_écaillée' 'couleur-pied-sur-anneau_beige'\n",
            " 'couleur-pied-sur-anneau_blanc' 'couleur-pied-sur-anneau_brun'\n",
            " 'couleur-pied-sur-anneau_cannelle' 'couleur-pied-sur-anneau_gris'\n",
            " 'couleur-pied-sur-anneau_jaune' 'couleur-pied-sur-anneau_orange'\n",
            " 'couleur-pied-sur-anneau_rose' 'couleur-pied-sur-anneau_rouge'\n",
            " 'couleur-voile_blanc' 'couleur-voile_brun' 'couleur-voile_jaune'\n",
            " 'couleur-voile_orange' 'type-anneau_aucun' 'type-anneau_fibreux'\n",
            " 'type-anneau_large' 'type-anneau_pendant' 'type-anneau_évasé'\n",
            " 'population_abondante' 'population_clairsemée' 'population_dispersée'\n",
            " 'population_nombreuse' 'population_solitaire' 'population_variée']\n"
          ]
        }
      ],
      "source": [
        "columns_to_exclude = ['toxicite']\n",
        "\n",
        "columns_to_encode = my_dataframe.drop(columns=columns_to_exclude).columns\n",
        "\n",
        "encoder = OneHotEncoder(sparse_output=False, handle_unknown='ignore')  # sparse_output=False pour éviter la matrice sparse\n",
        "\n",
        "encoded_data = encoder.fit_transform(my_dataframe[columns_to_encode])\n",
        "\n",
        "encoded_feature_names = encoder.get_feature_names_out(columns_to_encode)\n",
        "\n",
        "print(\"Encoded data size (rows, columns):\", encoded_data.shape)\n",
        "print(\"Generated column names:\")\n",
        "print(encoded_feature_names)"
      ]
    },
    {
      "cell_type": "markdown",
      "metadata": {
        "id": "u1XvYYAYzE-O"
      },
      "source": [
        "1.3 Créer un nouveau DataFrame avec les données et les noms de colonne (méthode get_feature_names_out() de OneHotEncoder). Mélanger les données. Afficher le résultat."
      ]
    },
    {
      "cell_type": "code",
      "execution_count": null,
      "metadata": {
        "id": "JKF_57yVzE-O"
      },
      "outputs": [],
      "source": []
    },
    {
      "cell_type": "markdown",
      "metadata": {
        "id": "u9s40xKmzE-P"
      },
      "source": [
        "1.4 Creer 4 jeux de données : train features et labels (70%) et dev features et labels (30%).\\\n",
        "Utiliser toxicite_toxique comme label. Ne pas garder de label (toxicite_toxique et toxicite_comestible) dans les features !"
      ]
    },
    {
      "cell_type": "code",
      "execution_count": null,
      "metadata": {
        "id": "4xmKvO-HzE-P"
      },
      "outputs": [],
      "source": []
    },
    {
      "cell_type": "markdown",
      "metadata": {
        "id": "iVX9jKzpzE-P"
      },
      "source": [
        "## 2. Arbre de décision"
      ]
    },
    {
      "cell_type": "markdown",
      "metadata": {
        "id": "Pm-37HmLzE-P"
      },
      "source": [
        "2.1 Entrainer un arbre de décision sur les données d'apprentissage. Afficher l'arbre obtenu en utilisant plot_tree."
      ]
    },
    {
      "cell_type": "code",
      "execution_count": null,
      "metadata": {
        "id": "g5e_klJ7zE-P"
      },
      "outputs": [],
      "source": [
        "import matplotlib.pyplot as plt"
      ]
    },
    {
      "cell_type": "markdown",
      "metadata": {
        "id": "E36sPIi5zE-Q"
      },
      "source": [
        "2.2 Afficher l'arbre obtenu en utilisant graphwiz"
      ]
    },
    {
      "cell_type": "code",
      "execution_count": null,
      "metadata": {
        "id": "tVt4G4u0zE-Q"
      },
      "outputs": [],
      "source": []
    },
    {
      "cell_type": "markdown",
      "metadata": {
        "id": "0pmzyq9rzE-Q"
      },
      "source": [
        "2.3 Mesurer la précision du modèle sur les données de dev"
      ]
    },
    {
      "cell_type": "code",
      "execution_count": null,
      "metadata": {
        "id": "ZwugDnRwzE-Q"
      },
      "outputs": [],
      "source": []
    },
    {
      "cell_type": "markdown",
      "metadata": {
        "id": "nRqvy5lzzE-Q"
      },
      "source": [
        "## 3. Modèle de forêt"
      ]
    },
    {
      "cell_type": "markdown",
      "metadata": {
        "id": "sb2GLpRwzE-Q"
      },
      "source": [
        "3.1 Réalisez un algorithme de Random Forest sur les données. Utiliser 500 arbres et une profondeur de 6."
      ]
    },
    {
      "cell_type": "code",
      "execution_count": null,
      "metadata": {
        "id": "MkawSf3kzE-Q"
      },
      "outputs": [],
      "source": []
    },
    {
      "cell_type": "markdown",
      "metadata": {
        "id": "AU6pq_bozE-Q"
      },
      "source": [
        "3.2 Afficher trois arbres au hasard."
      ]
    },
    {
      "cell_type": "code",
      "execution_count": null,
      "metadata": {
        "id": "LLLopbtSzE-R"
      },
      "outputs": [],
      "source": [
        "from random import randint\n"
      ]
    },
    {
      "cell_type": "markdown",
      "metadata": {
        "id": "kw6Y7gVKzE-R"
      },
      "source": [
        "3.3 Mesurer la précision du modèle Random Forest sur les données de dev"
      ]
    },
    {
      "cell_type": "code",
      "execution_count": null,
      "metadata": {
        "id": "lY1itMH2zE-R"
      },
      "outputs": [],
      "source": []
    },
    {
      "cell_type": "markdown",
      "metadata": {
        "id": "1v385uyhzE-R"
      },
      "source": [
        "## 4. optimisation des paramètres"
      ]
    },
    {
      "cell_type": "markdown",
      "metadata": {
        "id": "2_az70WizE-R"
      },
      "source": [
        "4.1 En utilisant GridSearchCV, chercher la meilleure combinaison max_depth et n_estimator.\n",
        "\n",
        "Afficher les paramètre du modèle et a précision obtenue.\n",
        "\n",
        "Réexécuter un apprentissage avec la meilleure combinaison.\n"
      ]
    },
    {
      "cell_type": "code",
      "execution_count": null,
      "metadata": {
        "id": "2V4BYYTkzE-R"
      },
      "outputs": [],
      "source": [
        "from sklearn.model_selection import GridSearchCV\n"
      ]
    },
    {
      "cell_type": "markdown",
      "metadata": {
        "id": "9N1Itv65zE-R"
      },
      "source": [
        "4.2 Afficher les paramètres optimaux et la précisions obtenue sur les données dev"
      ]
    },
    {
      "cell_type": "code",
      "execution_count": null,
      "metadata": {
        "id": "R0StBCp8zE-R"
      },
      "outputs": [],
      "source": []
    },
    {
      "cell_type": "markdown",
      "metadata": {
        "id": "DlRhqbwJzE-R"
      },
      "source": [
        "4.3 Classer et Afficher les caractéristiques d'importance supérieure à 1%"
      ]
    },
    {
      "cell_type": "code",
      "execution_count": null,
      "metadata": {
        "id": "bpC4jv5ZzE-S"
      },
      "outputs": [],
      "source": []
    },
    {
      "cell_type": "markdown",
      "metadata": {
        "id": "WKUNyIGEzE-S"
      },
      "source": [
        "## 5. Stacking\n",
        "\n",
        "Essayer différents modèles d'estimateur final"
      ]
    },
    {
      "cell_type": "code",
      "execution_count": null,
      "metadata": {
        "id": "OiuBCEHnzE-S"
      },
      "outputs": [],
      "source": [
        "from sklearn.pipeline import make_pipeline\n",
        "from sklearn.preprocessing import StandardScaler\n",
        "from sklearn.svm import SVC\n",
        "from sklearn.linear_model import LogisticRegression\n",
        "from sklearn.naive_bayes import GaussianNB\n",
        "from sklearn.linear_model import Perceptron\n",
        "from sklearn.ensemble import StackingClassifier\n"
      ]
    },
    {
      "cell_type": "markdown",
      "metadata": {
        "id": "1HKJWA8bzE-S"
      },
      "source": [
        "## 6. Gradient Boosting"
      ]
    },
    {
      "cell_type": "markdown",
      "metadata": {
        "id": "ZZZX3JqpzE-S"
      },
      "source": [
        "6. Exécuter un apprentissage de Gradient Boosting avec et sans \"Early Stopping\" sur le nombre d'estimateurs. Comparer avec le résultat sur les données dev."
      ]
    },
    {
      "cell_type": "code",
      "execution_count": null,
      "metadata": {
        "id": "e5TPJNIszE-S"
      },
      "outputs": [],
      "source": []
    },
    {
      "cell_type": "markdown",
      "metadata": {
        "id": "juBLjfCgzE-S"
      },
      "source": [
        "## 7. (Optionnel) Recommencer les execices précédents en utilisant les \"ordinal encoders\". Que remarquez-vous ?"
      ]
    }
  ],
  "metadata": {
    "kernelspec": {
      "display_name": "Python 3",
      "language": "python",
      "name": "python3"
    },
    "language_info": {
      "codemirror_mode": {
        "name": "ipython",
        "version": 3
      },
      "file_extension": ".py",
      "mimetype": "text/x-python",
      "name": "python",
      "nbconvert_exporter": "python",
      "pygments_lexer": "ipython3",
      "version": "3.12.4"
    },
    "orig_nbformat": 4,
    "colab": {
      "provenance": []
    }
  },
  "nbformat": 4,
  "nbformat_minor": 0
}